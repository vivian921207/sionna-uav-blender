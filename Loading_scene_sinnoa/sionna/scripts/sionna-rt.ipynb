{
 "cells": [
  {
   "cell_type": "markdown",
   "id": "99235969",
   "metadata": {},
   "source": [
    "# Imports"
   ]
  },
  {
   "cell_type": "code",
   "execution_count": 1,
   "id": "5efb88e3",
   "metadata": {},
   "outputs": [],
   "source": [
    "import os # Configure which GPU\n",
    "if os.getenv(\"CUDA_VISIBLE_DEVICES\") is None:\n",
    "    gpu_num = 0 # Use \"\" to use the CPU\n",
    "    os.environ[\"CUDA_VISIBLE_DEVICES\"] = f\"{gpu_num}\"\n",
    "os.environ['TF_CPP_MIN_LOG_LEVEL'] = '3'\n",
    "\n",
    "# Import or install Sionna\n",
    "try:\n",
    "    import sionna.phy\n",
    "    import sionna.rt\n",
    "except ImportError as e:\n",
    "    import sys\n",
    "    if 'google.colab' in sys.modules:\n",
    "       # Install Sionna in Google Colab\n",
    "       print(\"Installing Sionna and restarting the runtime. Please run the cell again.\")\n",
    "       os.system(\"pip install sionna\")\n",
    "       os.kill(os.getpid(), 5)\n",
    "    else:\n",
    "       raise e\n",
    "\n",
    "# Configure the notebook to use only a single GPU and allocate only as much memory as needed\n",
    "# For more details, see https://www.tensorflow.org/guide/gpu\n",
    "import tensorflow as tf\n",
    "gpus = tf.config.list_physical_devices('GPU')\n",
    "if gpus:\n",
    "    try:\n",
    "        tf.config.experimental.set_memory_growth(gpus[0], True)\n",
    "    except RuntimeError as e:\n",
    "        print(e)\n",
    "\n",
    "# Avoid warnings from TensorFlow\n",
    "tf.get_logger().setLevel('ERROR')\n",
    "\n",
    "import numpy as np\n",
    "\n",
    "# For link-level simulations\n",
    "from sionna.phy.channel import OFDMChannel, CIRDataset\n",
    "from sionna.phy.nr import PUSCHConfig, PUSCHTransmitter, PUSCHReceiver\n",
    "from sionna.phy.utils import ebnodb2no, PlotBER\n",
    "from sionna.phy.ofdm import KBestDetector, LinearDetector\n",
    "from sionna.phy.mimo import StreamManagement\n",
    "\n",
    "# Import Sionna RT components\n",
    "from sionna.rt import load_scene, Camera, Transmitter, Receiver, PlanarArray,\\\n",
    "                      PathSolver, RadioMapSolver\n",
    "\n",
    "no_preview = False # Toggle to False to use the preview widget\n",
    "                  # instead of rendering for scene visualization"
   ]
  },
  {
   "cell_type": "markdown",
   "id": "92dc3b8f",
   "metadata": {},
   "source": [
    "# Setting up the Ray Tracer\n",
    "\n",
    "Let’s start by defining some constants that control the system we want to simulate."
   ]
  },
  {
   "cell_type": "code",
   "execution_count": null,
   "id": "d4623c10",
   "metadata": {},
   "outputs": [],
   "source": [
    "# System parameters\n",
    "subcarrier_spacing = 30e3 # Hz\n",
    "num_time_steps = 14 # Total number of ofdm symbols per slot\n",
    "carrier_frequency = 3.5e9 # Hz\n",
    "\n",
    "\n",
    "num_tx = 2 # Number of users\n",
    "num_rx = 1 # Only one receiver considered\n",
    "num_tx_ant = 1 # Each user has 4 antennas\n",
    "num_rx_ant = 2 # The receiver is equipped with 16 antennas\n",
    "\n",
    "# batch_size for CIR generation\n",
    "# batch_size_cir = 1000\n",
    "batch_size_cir = 6"
   ]
  },
  {
   "cell_type": "markdown",
   "id": "f422c111",
   "metadata": {},
   "source": [
    "We then set up the radio propagation environment. We start by loading a scene and then add a transmitter that acts as a base station. We will later use channel reciprocity to simulate the uplink direction."
   ]
  },
  {
   "cell_type": "code",
   "execution_count": 3,
   "id": "b8538c29",
   "metadata": {},
   "outputs": [],
   "source": [
    "# Load an integrated scene.\n",
    "# You can try other scenes, such as `sionna.rt.scene.etoile`. Note that this would require\n",
    "# updating the position of the transmitter (see below in this cell).\n",
    "# scene = load_scene(sionna.rt.scene.munich)\n",
    "scene =  load_scene(\"../blender_xml/nycu_right/nycu_right.xml\")\n",
    "# scene.preview()\n",
    "\n",
    "# Transmitter (=basestation) has an antenna pattern from 3GPP 38.901\n",
    "scene.tx_array = PlanarArray(num_rows=1,\n",
    "                             num_cols=num_rx_ant//2, # We want to transmitter to be equiped with 2 antennas\n",
    "                             vertical_spacing=0.5,\n",
    "                             horizontal_spacing=0.5,\n",
    "                             pattern=\"tr38901\",\n",
    "                             polarization=\"cross\")\n",
    "\n",
    "# Create transmitter\n",
    "tx1 = Transmitter(name=\"tx1\",\n",
    "                 position=[30, 20, 50],\n",
    "                 look_at=[30,0,10], # optional, defines view direction\n",
    "                 power_dbm=23,\n",
    "                 display_radius=3.) # optinal, radius of the sphere for visualizing the device\n",
    "\n",
    "tx2 = Transmitter(name=\"tx2\",\n",
    "                 position=[30,46,22],\n",
    "                 look_at=[30,0,10], # optional, defines view direction\n",
    "                 power_dbm=23,\n",
    "                 display_radius=3.) # optinal, radius of the sphere for visualizing the device\n",
    "\n",
    "# scene.preview()\n",
    "\n",
    "scene.add(tx1)\n",
    "scene.add(tx2)\n",
    "\n",
    "# Create new camera\n",
    "bird_cam = Camera(position=[0,80,500], orientation=np.array([0,np.pi/2,-np.pi/2]))"
   ]
  },
  {
   "cell_type": "markdown",
   "id": "c83e8060",
   "metadata": {},
   "source": [
    "We then compute a radio map for the instantiated transmitter."
   ]
  },
  {
   "cell_type": "code",
   "execution_count": 4,
   "id": "09d5fee3",
   "metadata": {},
   "outputs": [],
   "source": [
    "# max_depth = 5\n",
    "max_depth = 12\n",
    "\n",
    "# Radio map solver\n",
    "rm_solver = RadioMapSolver()\n",
    "\n",
    "# Compute the radio map\n",
    "rm = rm_solver(scene,\n",
    "               max_depth=12,\n",
    "               cell_size=(1., 1.),\n",
    "               samples_per_tx=10**7)"
   ]
  },
  {
   "cell_type": "markdown",
   "id": "f9268678",
   "metadata": {},
   "source": [
    "Let’s visualize the computed radio map."
   ]
  },
  {
   "cell_type": "code",
   "execution_count": 5,
   "id": "48654ebb",
   "metadata": {},
   "outputs": [
    {
     "data": {
      "application/vnd.jupyter.widget-view+json": {
       "model_id": "4ad038577c2e4aeba486a4f7c2928874",
       "version_major": 2,
       "version_minor": 0
      },
      "text/plain": [
       "HBox(children=(Renderer(camera=PerspectiveCamera(aspect=1.31, children=(DirectionalLight(intensity=0.25, posit…"
      ]
     },
     "metadata": {},
     "output_type": "display_data"
    }
   ],
   "source": [
    "if no_preview:\n",
    "    # Render an image\n",
    "    scene.render(camera=bird_cam,\n",
    "                 radio_map=rm,\n",
    "                 rm_vmin=-110,\n",
    "                 clip_at=12.); # Clip the scene at rendering for visualizing the refracted field\n",
    "else:\n",
    "    # Show preview\n",
    "    scene.preview(radio_map=rm,\n",
    "                  rm_vmin=-110,\n",
    "                  clip_at=40.); # Clip the scene at rendering for visualizing the refracted field"
   ]
  }
 ],
 "metadata": {
  "kernelspec": {
   "display_name": "topics",
   "language": "python",
   "name": "python3"
  },
  "language_info": {
   "codemirror_mode": {
    "name": "ipython",
    "version": 3
   },
   "file_extension": ".py",
   "mimetype": "text/x-python",
   "name": "python",
   "nbconvert_exporter": "python",
   "pygments_lexer": "ipython3",
   "version": "3.10.18"
  }
 },
 "nbformat": 4,
 "nbformat_minor": 5
}
