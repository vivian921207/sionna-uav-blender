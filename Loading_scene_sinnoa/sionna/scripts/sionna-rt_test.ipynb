{
 "cells": [
  {
   "cell_type": "code",
   "execution_count": 8,
   "id": "de3dacff",
   "metadata": {},
   "outputs": [
    {
     "name": "stdout",
     "output_type": "stream",
     "text": [
      "[✔] Sionna-RT environment ready.\n"
     ]
    }
   ],
   "source": [
    "# === Cell 1: GPU 與環境初始化 ===\n",
    "import os # Configure which GPU\n",
    "if os.getenv(\"CUDA_VISIBLE_DEVICES\") is None:\n",
    "    gpu_num = 0 # Use \"\" to use the CPU\n",
    "    os.environ[\"CUDA_VISIBLE_DEVICES\"] = f\"{gpu_num}\"\n",
    "os.environ['TF_CPP_MIN_LOG_LEVEL'] = '3'\n",
    "\n",
    "# Import or install Sionna\n",
    "try:\n",
    "    import sionna.phy\n",
    "    import sionna.rt\n",
    "except ImportError as e:\n",
    "    import sys\n",
    "    if 'google.colab' in sys.modules:\n",
    "       print(\"Installing Sionna and restarting the runtime. Please run the cell again.\")\n",
    "       os.system(\"pip install sionna\")\n",
    "       os.kill(os.getpid(), 5)\n",
    "    else:\n",
    "       raise e\n",
    "\n",
    "# Configure TensorFlow GPU\n",
    "import tensorflow as tf\n",
    "gpus = tf.config.list_physical_devices('GPU')\n",
    "if gpus:\n",
    "    try:\n",
    "        tf.config.experimental.set_memory_growth(gpus[0], True)\n",
    "    except RuntimeError as e:\n",
    "        print(e)\n",
    "tf.get_logger().setLevel('ERROR')\n",
    "\n",
    "import numpy as np\n",
    "\n",
    "# For link-level simulations\n",
    "from sionna.phy.channel import OFDMChannel, CIRDataset\n",
    "from sionna.phy.nr import PUSCHConfig, PUSCHTransmitter, PUSCHReceiver\n",
    "from sionna.phy.utils import ebnodb2no, PlotBER\n",
    "from sionna.phy.ofdm import KBestDetector, LinearDetector\n",
    "from sionna.phy.mimo import StreamManagement\n",
    "\n",
    "# Import Sionna RT components\n",
    "from sionna.rt import load_scene, Camera, Transmitter, Receiver, PlanarArray, PathSolver, RadioMapSolver\n",
    "\n",
    "print(\"[✔] Sionna-RT environment ready.\")\n"
   ]
  },
  {
   "cell_type": "code",
   "execution_count": 9,
   "id": "ab4e59e1",
   "metadata": {},
   "outputs": [],
   "source": [
    "# === Cell 2: JSON 監聽設定 ===\n",
    "import json, time\n",
    "from IPython.display import clear_output\n",
    "\n",
    "JSON_PATH = \"../../jason/uav_from_sionna.json\"   # 監聽 JSON 檔\n",
    "CHECK_INTERVAL = 2.0                   # 每 2 秒更新\n",
    "\n",
    "last_scene_path = None\n",
    "scene = None\n",
    "\n",
    "def read_json(path):\n",
    "    \"\"\"安全讀取 JSON\"\"\"\n",
    "    try:\n",
    "        with open(path, \"r\", encoding=\"utf-8\") as f:\n",
    "            return json.load(f)\n",
    "    except Exception as e:\n",
    "        print(f\"[ERROR] 無法讀取 JSON: {e}\")\n",
    "        return None\n"
   ]
  },
  {
   "cell_type": "code",
   "execution_count": 10,
   "id": "14a2a28e",
   "metadata": {},
   "outputs": [
    {
     "name": "stdout",
     "output_type": "stream",
     "text": [
      "[INFO] 載入場景: ../blender_xml/nycu_right/nycu_right.xml\n"
     ]
    }
   ],
   "source": [
    "# === Cell 3: 根據 JSON 選擇場景 (僅 nycu, nycu_left, nycu_right) ===\n",
    "\n",
    "data = read_json(JSON_PATH)\n",
    "\n",
    "# 對應 UAV 的三個區域名稱（C=左, A=中, B=右）\n",
    "REGION_PATHS = {\n",
    "    \"A\": \"../blender_xml/nycu/nycu.xml\",\n",
    "    \"B\": \"../blender_xml/nycu_right/nycu_right.xml\",\n",
    "    \"C\": \"../blender_xml/nycu_left/nycu_left.xml\"\n",
    "}\n",
    "\n",
    "# 根據 JSON 的 uav.region 選擇\n",
    "if data and \"uav\" in data and \"region\" in data[\"uav\"]:\n",
    "    region = data[\"uav\"][\"region\"].strip().upper()\n",
    "    xml_path = REGION_PATHS.get(region, REGION_PATHS[\"A\"])  # 預設載入 A（中央）\n",
    "else:\n",
    "    xml_path = REGION_PATHS[\"A\"]\n",
    "\n",
    "print(f\"[INFO] 載入場景: {xml_path}\")\n",
    "\n",
    "scene = load_scene(xml_path)\n",
    "last_scene_path = xml_path\n"
   ]
  },
  {
   "cell_type": "code",
   "execution_count": 11,
   "id": "778bee2c",
   "metadata": {},
   "outputs": [
    {
     "name": "stdout",
     "output_type": "stream",
     "text": [
      "[✔] Transmitters and camera initialized.\n"
     ]
    }
   ],
   "source": [
    "# === Cell 4: 系統參數與天線設定 ===\n",
    "\n",
    "no_preview = True\n",
    "\n",
    "subcarrier_spacing = 30e3 # Hz\n",
    "num_time_steps = 14 # Total number of ofdm symbols per slot\n",
    "carrier_frequency = 3.5e9 # Hz\n",
    "\n",
    "num_tx = 2 # Number of users\n",
    "num_rx = 1 # Only one receiver considered\n",
    "num_tx_ant = 1 # Each user has 4 antennas\n",
    "num_rx_ant = 2 # The receiver is equipped with 16 antennas\n",
    "\n",
    "batch_size_cir = 6\n",
    "\n",
    "# Transmitter (=basestation) has an antenna pattern from 3GPP 38.901\n",
    "scene.tx_array = PlanarArray(\n",
    "    num_rows=1,\n",
    "    num_cols=num_rx_ant//2,\n",
    "    vertical_spacing=0.5,\n",
    "    horizontal_spacing=0.5,\n",
    "    pattern=\"tr38901\",\n",
    "    polarization=\"cross\"\n",
    ")\n",
    "\n",
    "# 建立 transmitters\n",
    "tx1 = Transmitter(name=\"tx1\", position=[30, 20, 50],\n",
    "                  look_at=[30, 0, 10], power_dbm=23, display_radius=8.)\n",
    "tx2 = Transmitter(name=\"tx2\", position=[30, 46, 22],\n",
    "                  look_at=[30, 0, 10], power_dbm=23, display_radius=8.)\n",
    "\n",
    "scene.add(tx1)\n",
    "scene.add(tx2)\n",
    "\n",
    "bird_cam = Camera(position=[0, 80, 500],\n",
    "                  orientation=np.array([0, np.pi/2, -np.pi/2]))\n",
    "\n",
    "rm_solver = RadioMapSolver()\n",
    "print(\"[✔] Transmitters and camera initialized.\")\n"
   ]
  },
  {
   "cell_type": "code",
   "execution_count": 14,
   "id": "89a3dc04",
   "metadata": {},
   "outputs": [
    {
     "name": "stdout",
     "output_type": "stream",
     "text": [
      "[INIT] 已定義 safe_float() 與 update_scene_from_json()。請執行下一格以開始監聽。\n"
     ]
    }
   ],
   "source": [
    "# === Cell 5: 初始化與工具函式 ===\n",
    "import os, time\n",
    "from IPython.display import clear_output\n",
    "\n",
    "def safe_float(val):\n",
    "    \"\"\"安全轉成 Python float，支援 Float / Tensor / ndarray\"\"\"\n",
    "    try:\n",
    "        if hasattr(val, \"item\"):\n",
    "            return float(val.item())\n",
    "        return float(val)\n",
    "    except Exception:\n",
    "        return 0.0\n",
    "\n",
    "# === Region 對應中心位置 ===\n",
    "REGION_CENTERS = {\n",
    "    \"A\": 0.0,\n",
    "    \"B\": 1400.0,   # B 在右邊\n",
    "    \"C\": -1400.0,  # C 在左邊\n",
    "}\n",
    "\n",
    "# === 全域狀態 ===\n",
    "last_scene_path = None\n",
    "tx1 = None\n",
    "tx2 = None\n",
    "\n",
    "# === 主函式：更新場景 ===\n",
    "def update_scene_from_json(data):\n",
    "    \"\"\"依據 JSON 資料更新場景或重新載入\"\"\"\n",
    "    global last_scene_path, tx1, tx2\n",
    "\n",
    "    moved = False  # ✅ 標記 UAV 是否移動\n",
    "\n",
    "    # === region 與 XML 路徑 ===\n",
    "    if data and \"uav\" in data and \"region\" in data[\"uav\"]:\n",
    "        region = data[\"uav\"][\"region\"].strip().upper()\n",
    "        xml_path = REGION_PATHS.get(region, REGION_PATHS[\"A\"])\n",
    "    else:\n",
    "        region = \"A\"\n",
    "        xml_path = REGION_PATHS[\"A\"]\n",
    "\n",
    "    # === 若場景改變 ===\n",
    "    if xml_path != last_scene_path:\n",
    "        print(f\"[INFO] 載入場景: {xml_path}\")\n",
    "        scene = load_scene(xml_path)\n",
    "        last_scene_path = xml_path\n",
    "\n",
    "        # 重建發射器\n",
    "        scene.tx_array = PlanarArray(\n",
    "            num_rows=1, num_cols=num_rx_ant // 2,\n",
    "            vertical_spacing=0.5, horizontal_spacing=0.5,\n",
    "            pattern=\"tr38901\", polarization=\"cross\"\n",
    "        )\n",
    "\n",
    "        tx_radius = 8.0\n",
    "        tx1 = Transmitter(name=\"tx1\", position=[30, 20, 50],\n",
    "                          look_at=[30, 0, 10], power_dbm=23,\n",
    "                          display_radius=tx_radius, color=[1, 0, 0])\n",
    "        scene.add(tx1)\n",
    "\n",
    "        tx2 = Transmitter(name=\"tx2\", position=[30, 46, 22],\n",
    "                          look_at=[30, 0, 10], power_dbm=23,\n",
    "                          display_radius=tx_radius, color=[1, 0, 0])\n",
    "        scene.add(tx2)\n",
    "    else:\n",
    "        scene = None  # 保留現有場景\n",
    "\n",
    "    # === 若 UAV 更新 ===\n",
    "    if data and \"uav\" in data:\n",
    "        u = data[\"uav\"]\n",
    "        x = safe_float(u.get(\"x\", 0))\n",
    "        y = safe_float(u.get(\"y\", 0))\n",
    "        z = safe_float(u.get(\"z\", 0))\n",
    "        region = u.get(\"region\", \"A\").strip().upper()\n",
    "\n",
    "        region_center = REGION_CENTERS.get(region, 0.0)\n",
    "        x_adj = x - region_center\n",
    "\n",
    "        if tx1 is not None:\n",
    "            old_pos = list(tx1.position)\n",
    "            new_pos = [x_adj, y, z]\n",
    "            if any(abs(a - b) > 1e-3 for a, b in zip(old_pos, new_pos)):\n",
    "                tx1.position = new_pos\n",
    "                moved = True  # ✅ 有移動\n",
    "                print(f\"[TX-UPDATE] tx1 → ({x_adj:.1f}, {y:.1f}, {z:.1f})  region={region}\")\n",
    "\n",
    "    return scene, region, moved\n",
    "\n",
    "\n",
    "print(\"[INIT] 已定義 safe_float() 與 update_scene_from_json()。請執行下一格以開始監聽。\")\n"
   ]
  },
  {
   "cell_type": "code",
   "execution_count": 17,
   "id": "9334ccc0",
   "metadata": {},
   "outputs": [
    {
     "name": "stdout",
     "output_type": "stream",
     "text": [
      "[UPDATE] 14:57:00 - region = A\n"
     ]
    },
    {
     "data": {
      "application/vnd.jupyter.widget-view+json": {
       "model_id": "f2aba2d700b947049e4cb7729c14142d",
       "version_major": 2,
       "version_minor": 0
      },
      "text/plain": [
       "HBox(children=(Renderer(camera=PerspectiveCamera(aspect=1.31, children=(DirectionalLight(intensity=0.25, posit…"
      ]
     },
     "metadata": {},
     "output_type": "display_data"
    },
    {
     "name": "stdout",
     "output_type": "stream",
     "text": [
      "\n",
      "[STOPPED] JSON 監聽結束。\n"
     ]
    }
   ],
   "source": [
    "# === Cell 2: 主監聽迴圈 ===\n",
    "print(\"[SYSTEM] 啟動 JSON 監聽器，每 20 秒更新一次（Ctrl + C 停止）\")\n",
    "\n",
    "CHECK_INTERVAL = 20.0\n",
    "current_scene = None\n",
    "\n",
    "while True:\n",
    "    try:\n",
    "        data = read_json(JSON_PATH)\n",
    "        scene, region, moved = update_scene_from_json(data)\n",
    "\n",
    "        # ✅ 若場景被重新載入，更新 current_scene\n",
    "        if scene is not None:\n",
    "            current_scene = scene\n",
    "\n",
    "        # ✅ 若 UAV 移動 或 場景改變，都重新 render\n",
    "        if current_scene is not None and moved:\n",
    "            rm = rm_solver(current_scene, max_depth=8,\n",
    "                           cell_size=(2., 2.), samples_per_tx=10**5)\n",
    "            clear_output(wait=True)\n",
    "            print(f\"[UPDATE] {time.strftime('%H:%M:%S')} - region = {region}\")\n",
    "            current_scene.preview(radio_map=rm, rm_vmin=-110, clip_at=None)\n",
    "\n",
    "        time.sleep(CHECK_INTERVAL)\n",
    "\n",
    "    except KeyboardInterrupt:\n",
    "        print(\"\\n[STOPPED] JSON 監聽結束。\")\n",
    "        break\n",
    "    except Exception as e:\n",
    "        print(f\"[ERROR] {e}\")\n",
    "        time.sleep(CHECK_INTERVAL)\n"
   ]
  }
 ],
 "metadata": {
  "kernelspec": {
   "display_name": "topics",
   "language": "python",
   "name": "python3"
  },
  "language_info": {
   "codemirror_mode": {
    "name": "ipython",
    "version": 3
   },
   "file_extension": ".py",
   "mimetype": "text/x-python",
   "name": "python",
   "nbconvert_exporter": "python",
   "pygments_lexer": "ipython3",
   "version": "3.10.18"
  }
 },
 "nbformat": 4,
 "nbformat_minor": 5
}
